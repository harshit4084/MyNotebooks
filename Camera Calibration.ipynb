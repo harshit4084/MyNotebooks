{
 "cells": [
  {
   "cell_type": "markdown",
   "metadata": {},
   "source": [
    "### Main funtion that takes in two matrics (3D and 2D) and return calculated params\n"
   ]
  },
  {
   "cell_type": "markdown",
   "metadata": {},
   "source": [
    "For starting create a random matrix"
   ]
  },
  {
   "cell_type": "code",
   "execution_count": 1,
   "metadata": {},
   "outputs": [],
   "source": [
    "import random \n",
    "import numpy as np"
   ]
  },
  {
   "cell_type": "code",
   "execution_count": 200,
   "metadata": {},
   "outputs": [],
   "source": [
    "mW = np.loadtxt('myWCoords.txt')\n",
    "mC = np.loadtxt('myCCoords.txt')\n",
    "mW = np.append(mW,np.ones((mW.shape[0],1)),axis=1)\n"
   ]
  },
  {
   "cell_type": "code",
   "execution_count": 201,
   "metadata": {},
   "outputs": [
    {
     "data": {
      "text/plain": [
       "((48, 4), (48, 2))"
      ]
     },
     "execution_count": 201,
     "metadata": {},
     "output_type": "execute_result"
    }
   ],
   "source": [
    "W = mW\n",
    "C = mC\n",
    "W.shape,C.shape"
   ]
  },
  {
   "cell_type": "markdown",
   "metadata": {},
   "source": [
    "Specify number of observation points "
   ]
  },
  {
   "cell_type": "code",
   "execution_count": 202,
   "metadata": {},
   "outputs": [],
   "source": [
    "n=W.shape[0]"
   ]
  },
  {
   "cell_type": "markdown",
   "metadata": {},
   "source": [
    "Create 3d matrix which represents world coordinate system and 2d matrix which represents camera coordinate system\n",
    "Note: We'll append 1 in world coordinates so dim will be (nx4) for 2d it will be (nx2)"
   ]
  },
  {
   "cell_type": "code",
   "execution_count": 3,
   "metadata": {},
   "outputs": [
    {
     "data": {
      "text/plain": [
       "array([[ 5,  5,  7,  1],\n",
       "       [ 3,  3,  9,  1],\n",
       "       [ 4,  8,  9,  1],\n",
       "       [ 9,  9,  7,  1],\n",
       "       [ 9,  1, 10,  1],\n",
       "       [ 1,  1,  1,  1]])"
      ]
     },
     "execution_count": 3,
     "metadata": {},
     "output_type": "execute_result"
    }
   ],
   "source": [
    "W = np.array([[random.randint(1,10) for i in range(3)]+[1] for j in range(n)])\n",
    "W"
   ]
  },
  {
   "cell_type": "code",
   "execution_count": 4,
   "metadata": {},
   "outputs": [
    {
     "data": {
      "text/plain": [
       "array([[375, 306],\n",
       "       [337, 302],\n",
       "       [213, 263],\n",
       "       [306, 396],\n",
       "       [317, 319],\n",
       "       [333, 254]])"
      ]
     },
     "execution_count": 4,
     "metadata": {},
     "output_type": "execute_result"
    }
   ],
   "source": [
    "C = np.array([[random.randint(200,400) for i in range(2)] for j in range(n)])\n",
    "C"
   ]
  },
  {
   "cell_type": "markdown",
   "metadata": {},
   "source": [
    "Now we will make the P matrix (from P.m = 0) which has dim (2nX12)"
   ]
  },
  {
   "cell_type": "markdown",
   "metadata": {},
   "source": [
    "Now fill in the value according to the eqaution:    \n",
    "Pi x m1 + 0 x m2 -  X0 x Pi x m3 = 0    \n",
    "0 x m1 + Pi x m2 -  Y0 x Pi x m3 = 0"
   ]
  },
  {
   "cell_type": "code",
   "execution_count": 242,
   "metadata": {},
   "outputs": [
    {
     "data": {
      "text/plain": [
       "dtype('float64')"
      ]
     },
     "execution_count": 242,
     "metadata": {},
     "output_type": "execute_result"
    }
   ],
   "source": [
    "P = np.zeros((2*n,12),dtype = 'float64')\n",
    "for i in range(n):\n",
    "    P[i*2,0:4] = W[i]\n",
    "    P[i*2,8:12] = -C[i][0]*W[i]\n",
    "    P[i*2+1,4:8] = W[i]\n",
    "    P[i*2+1,8:12] = -C[i][1]*W[i]\n",
    "P.dtype"
   ]
  },
  {
   "cell_type": "markdown",
   "metadata": {},
   "source": [
    "Now we will go on calculating Eigenvector decomposition for Pt x P  matrix. Then choosing the Eigenvector corresponding to minimum eigen value to obtain the solution P x m  = 0  "
   ]
  },
  {
   "cell_type": "code",
   "execution_count": 243,
   "metadata": {},
   "outputs": [
    {
     "data": {
      "text/plain": [
       "((12,), (12, 12))"
      ]
     },
     "execution_count": 243,
     "metadata": {},
     "output_type": "execute_result"
    }
   ],
   "source": [
    "w, v = np.linalg.eig(np.matmul(P.T,P))\n",
    "w.shape,v.shape"
   ]
  },
  {
   "cell_type": "code",
   "execution_count": 244,
   "metadata": {},
   "outputs": [
    {
     "data": {
      "text/plain": [
       "((12,), array([0., 0., 0., 0., 0., 0., 0., 0., 0., 0., 1., 0.]))"
      ]
     },
     "execution_count": 244,
     "metadata": {},
     "output_type": "execute_result"
    }
   ],
   "source": [
    "min_eigenval = w.shape[0]-1\n",
    "m = v[:,min_eigenval]\n",
    "m.shape,m"
   ]
  },
  {
   "cell_type": "code",
   "execution_count": 245,
   "metadata": {},
   "outputs": [
    {
     "data": {
      "text/plain": [
       "((3, 4), array([[0., 0., 0., 0.],\n",
       "        [0., 0., 0., 0.],\n",
       "        [0., 0., 1., 0.]]))"
      ]
     },
     "execution_count": 245,
     "metadata": {},
     "output_type": "execute_result"
    }
   ],
   "source": [
    "m = m.reshape((3,4))\n",
    "m.shape,m"
   ]
  },
  {
   "cell_type": "code",
   "execution_count": 228,
   "metadata": {},
   "outputs": [
    {
     "data": {
      "text/plain": [
       "(array([0., 0., 0.]),\n",
       " array([0., 0., 0.]),\n",
       " array([0., 0., 1.]),\n",
       " array([0., 0., 0.]))"
      ]
     },
     "execution_count": 228,
     "metadata": {},
     "output_type": "execute_result"
    }
   ],
   "source": [
    "a1 = m[0,0:3]\n",
    "a2 = m[1,0:3]\n",
    "a3 = m[2,0:3]\n",
    "B = m[:,-1]\n",
    "a1,a2,a3,B"
   ]
  },
  {
   "cell_type": "code",
   "execution_count": 229,
   "metadata": {},
   "outputs": [],
   "source": [
    "ro = 1/np.linalg.norm(a3)\n",
    "r3 = ro*a3\n",
    "X0 = ro*ro*np.dot(a1, a3)\n",
    "Y0 = ro*ro*np.dot(a2, a3)\n",
    "alpha = ro*ro*np.linalg.norm(np.cross(a1, a3))\n",
    "beta = ro*ro*np.linalg.norm(np.cross(a2, a3))"
   ]
  },
  {
   "cell_type": "code",
   "execution_count": 230,
   "metadata": {},
   "outputs": [
    {
     "data": {
      "text/plain": [
       "(1.0, array([0., 0., 1.]), 0.0, 0.0, 0.0, 0.0)"
      ]
     },
     "execution_count": 230,
     "metadata": {},
     "output_type": "execute_result"
    }
   ],
   "source": [
    "ro,r3,X0,Y0,alpha,beta"
   ]
  },
  {
   "cell_type": "code",
   "execution_count": 231,
   "metadata": {},
   "outputs": [
    {
     "name": "stderr",
     "output_type": "stream",
     "text": [
      "/home/ee/mtech/eet172294/anaconda3/envs/gan/lib/python3.6/site-packages/ipykernel_launcher.py:1: RuntimeWarning: invalid value encountered in double_scalars\n",
      "  \"\"\"Entry point for launching an IPython kernel.\n",
      "/home/ee/mtech/eet172294/anaconda3/envs/gan/lib/python3.6/site-packages/ipykernel_launcher.py:3: RuntimeWarning: invalid value encountered in true_divide\n",
      "  This is separate from the ipykernel package so we can avoid doing imports until\n"
     ]
    }
   ],
   "source": [
    "cosTheta = -np.dot(np.cross(a1,a3),np.cross(a2,a3))/(np.linalg.norm(np.cross(a1,a3))*np.linalg.norm(np.cross(a2,a3)))\n",
    "sinTheta = (1-cosTheta**2)**(1/2)\n",
    "r1 = np.cross(a2,a3)/np.linalg.norm(np.cross(a2,a3))\n",
    "r2 = np.cross(r3,r1)"
   ]
  },
  {
   "cell_type": "code",
   "execution_count": 232,
   "metadata": {},
   "outputs": [
    {
     "data": {
      "text/plain": [
       "(nan, nan, array([nan, nan, nan]), array([nan, nan, nan]))"
      ]
     },
     "execution_count": 232,
     "metadata": {},
     "output_type": "execute_result"
    }
   ],
   "source": [
    "cosTheta,sinTheta,r1,r2"
   ]
  },
  {
   "cell_type": "markdown",
   "metadata": {},
   "source": [
    "### After Calculation of parameters, We double check by calculating 2d points from 3D and compare. "
   ]
  },
  {
   "cell_type": "code",
   "execution_count": 196,
   "metadata": {},
   "outputs": [
    {
     "data": {
      "text/plain": [
       "((6, 4), (6, 2), (3, 4))"
      ]
     },
     "execution_count": 196,
     "metadata": {},
     "output_type": "execute_result"
    }
   ],
   "source": [
    "W.shape,C.shape,m.shape"
   ]
  },
  {
   "cell_type": "markdown",
   "metadata": {},
   "source": [
    "Now We will calculate camaera coordinate (x and y) from world coordinate and estimated mateix M"
   ]
  },
  {
   "cell_type": "markdown",
   "metadata": {},
   "source": [
    "The formula is                    \n",
    "X = (m1 x Pi) / (m3 x Pi)              \n",
    "Y = (m2 x Pi) / (m3 x Pi)"
   ]
  },
  {
   "cell_type": "code",
   "execution_count": 197,
   "metadata": {},
   "outputs": [
    {
     "name": "stderr",
     "output_type": "stream",
     "text": [
      "/home/ee/mtech/eet172294/anaconda3/envs/gan/lib/python3.6/site-packages/ipykernel_launcher.py:3: RuntimeWarning: invalid value encountered in double_scalars\n",
      "  This is separate from the ipykernel package so we can avoid doing imports until\n",
      "/home/ee/mtech/eet172294/anaconda3/envs/gan/lib/python3.6/site-packages/ipykernel_launcher.py:4: RuntimeWarning: invalid value encountered in double_scalars\n",
      "  after removing the cwd from sys.path.\n"
     ]
    }
   ],
   "source": [
    "C_calculated = np.zeros((n, 2))\n",
    "for i in range(n):\n",
    "    C_calculated[i,0] = np.dot(m[0],W[i])/np.dot(m[2],W[i])\n",
    "    C_calculated[i,1] = np.dot(m[1],W[i])/np.dot(m[2],W[i])\n",
    "C_calculated = np.round(C_calculated)\n",
    "\n",
    "# C_calculated"
   ]
  },
  {
   "cell_type": "code",
   "execution_count": 198,
   "metadata": {},
   "outputs": [
    {
     "data": {
      "text/plain": [
       "array([nan, nan, nan, nan, nan, nan])"
      ]
     },
     "execution_count": 198,
     "metadata": {},
     "output_type": "execute_result"
    }
   ],
   "source": [
    "sqrd_error = (C-C_calculated)**2   # (x1-x2)^2 (y1-y2)^2\n",
    "sqrd_error = sqrd_error[:,0]+sqrd_error[:,1]\n",
    "sqrd_error = sqrd_error**(1/2) \n",
    "sqrd_error"
   ]
  },
  {
   "cell_type": "markdown",
   "metadata": {},
   "source": [
    "How much error"
   ]
  },
  {
   "cell_type": "code",
   "execution_count": 199,
   "metadata": {},
   "outputs": [
    {
     "data": {
      "text/plain": [
       "nan"
      ]
     },
     "execution_count": 199,
     "metadata": {},
     "output_type": "execute_result"
    }
   ],
   "source": [
    "sqrd_error = np.sum(sqrd_error)/n\n",
    "sqrd_error"
   ]
  },
  {
   "cell_type": "markdown",
   "metadata": {},
   "source": [
    "###  All above code in a proper function"
   ]
  },
  {
   "cell_type": "code",
   "execution_count": 1,
   "metadata": {},
   "outputs": [],
   "source": [
    "import random \n",
    "import numpy as np"
   ]
  },
  {
   "cell_type": "code",
   "execution_count": 120,
   "metadata": {},
   "outputs": [],
   "source": [
    "def parameter_calculation(W,C):\n",
    "    print('The World coordinate matrix Dim: ',W.shape)\n",
    "    print('The Camera coordinate matrix Dim: ',C.shape)\n",
    "    n = W.shape[0]\n",
    "    print('Number of observation points found = ',n)\n",
    "    \n",
    "    P = np.zeros((2*n,12))\n",
    "    for i in range(n):\n",
    "        P[i*2,0:4] = W[i]\n",
    "        P[i*2,8:12] = -C[i][0]*W[i]\n",
    "        P[i*2+1,4:8] = W[i]\n",
    "        P[i*2+1,8:12] = -C[i][1]*W[i]\n",
    "    \n",
    "    evals, evecs = np.linalg.eig(np.matmul(P.T,P))\n",
    "    min_eigenval = evals.shape[0]-1\n",
    "    m = evecs[:,min_eigenval] \n",
    "    m = m.reshape((3,4))\n",
    "    a1 = m[0,0:3]\n",
    "    a2 = m[1,0:3]\n",
    "    a3 = m[2,0:3]\n",
    "    B = m[:,-1]\n",
    "        \n",
    "    ro = 1/np.linalg.norm(a3,1)\n",
    "    r3 = ro*a3\n",
    "    X0 = ro*ro*np.dot(a1, a3)\n",
    "    Y0 = ro*ro*np.dot(a2, a3)\n",
    "    alpha = ro*ro*np.linalg.norm(np.cross(a1, a3),1)\n",
    "    beta = ro*ro*np.linalg.norm(np.cross(a2, a3),1)\n",
    "    \n",
    "    r3 = r3.T\n",
    "    cosTheta = -np.dot(np.cross(a1,a3),np.cross(a2,a3))/(np.linalg.norm(np.cross(a1,a3),2)*np.linalg.norm(np.cross(a2,a3),2))\n",
    "    sinTheta = (1-cosTheta**2)**(1/2)\n",
    "    r1 = np.cross(a2,a3)/np.linalg.norm(np.cross(a2,a3),2)\n",
    "    r2 = np.cross(r3,r1)\n",
    "    \n",
    "    print('Parameter calculation Finished.')\n",
    "    params = [[r1,r2,r3],[X0,Y0],[alpha,beta],[cosTheta,sinTheta]]\n",
    "    return m,params\n"
   ]
  },
  {
   "cell_type": "code",
   "execution_count": 121,
   "metadata": {},
   "outputs": [],
   "source": [
    "def C_calculation(W,M):\n",
    "    W = np.asmatrix(W)\n",
    "    M = np.asmatrix(M)\n",
    "    C_calc = np.zeros((W.shape[0],3,1))\n",
    "    for i in range(W.shape[0]):\n",
    "        C_calc[i] =  np.matmul(M,W[i].T)/np.matmul(M[2],W[i].T)\n",
    "    C_calc = C_calc[:,0:2,0]  # because last column is all ones.\n",
    "    C_calc = np.round(C_calc) # because all coordinates are integers\n",
    "    C_calc = C_calc.astype('int16') # values must lie in certain range\n",
    "    return C_calc\n",
    "    "
   ]
  },
  {
   "cell_type": "code",
   "execution_count": 122,
   "metadata": {},
   "outputs": [],
   "source": [
    "def error(C,C_calc):\n",
    "    sqrd_error = (C-C_calc)**2   # (x1-x2)^2 (y1-y2)^2\n",
    "    sqrd_error = sqrd_error[:,0]+sqrd_error[:,1] # sum \n",
    "    sqrd_error = sqrd_error**(1/2) # take under-root\n",
    "    return sqrd_error"
   ]
  },
  {
   "cell_type": "markdown",
   "metadata": {},
   "source": [
    "#### Main funtion starts here"
   ]
  },
  {
   "cell_type": "code",
   "execution_count": 128,
   "metadata": {},
   "outputs": [
    {
     "name": "stdout",
     "output_type": "stream",
     "text": [
      "The World coordinate matrix Dim:  (14, 4)\n",
      "The Camera coordinate matrix Dim:  (14, 2)\n",
      "Number of observation points found =  14\n",
      "Parameter calculation Finished.\n"
     ]
    },
    {
     "data": {
      "text/plain": [
       "551.3809166405622"
      ]
     },
     "execution_count": 128,
     "metadata": {},
     "output_type": "execute_result"
    }
   ],
   "source": [
    "mW = np.loadtxt('WorldC.txt')\n",
    "mC = np.loadtxt('CameraC2.txt')\n",
    "mW = np.append(mW,np.ones((mW.shape[0],1)),axis=1)\n",
    "\n",
    "M,params = parameter_calculation(mW,mC)\n",
    "C_calc = C_calculation(mW,M)\n",
    "sqrd_error = error(mC,C_calc)\n",
    "avg_sqrd_error = np.mean(sqrd_error)\n",
    "avg_sqrd_error"
   ]
  },
  {
   "cell_type": "code",
   "execution_count": 129,
   "metadata": {},
   "outputs": [
    {
     "data": {
      "text/plain": [
       "[0.15652821510546858, 0.9876734874825264]"
      ]
     },
     "execution_count": 129,
     "metadata": {},
     "output_type": "execute_result"
    }
   ],
   "source": [
    "params[3] #should be [0 1]"
   ]
  },
  {
   "cell_type": "code",
   "execution_count": 130,
   "metadata": {},
   "outputs": [
    {
     "data": {
      "text/plain": [
       "80.96197437090994"
      ]
     },
     "execution_count": 130,
     "metadata": {},
     "output_type": "execute_result"
    }
   ],
   "source": [
    "np.arcsin(params[3][1])*(180*7/22) # should be 90"
   ]
  },
  {
   "cell_type": "code",
   "execution_count": 131,
   "metadata": {},
   "outputs": [],
   "source": [
    "import matplotlib.pyplot as plt\n",
    "%matplotlib inline"
   ]
  },
  {
   "cell_type": "code",
   "execution_count": 132,
   "metadata": {},
   "outputs": [
    {
     "data": {
      "image/png": "[encoded data removed]",
      "text/plain": [
       "<Figure size 432x288 with 1 Axes>"
      ]
     },
     "metadata": {},
     "output_type": "display_data"
    }
   ],
   "source": [
    "x = np.arange(14)\n",
    "plt.scatter(x,sqrd_error,marker = 'x');\n",
    "plt.xlabel('Observation Points');\n",
    "plt.ylabel('Error');\n"
   ]
  },
  {
   "cell_type": "code",
   "execution_count": null,
   "metadata": {},
   "outputs": [],
   "source": []
  },
  {
   "cell_type": "code",
   "execution_count": null,
   "metadata": {},
   "outputs": [],
   "source": []
  },
  {
   "cell_type": "code",
   "execution_count": null,
   "metadata": {},
   "outputs": [],
   "source": []
  },
  {
   "cell_type": "code",
   "execution_count": null,
   "metadata": {},
   "outputs": [],
   "source": []
  }
 ],
 "metadata": {
  "kernelspec": {
   "display_name": "Python 3",
   "language": "python",
   "name": "python3"
  },
  "language_info": {
   "codemirror_mode": {
    "name": "ipython",
    "version": 3
   },
   "file_extension": ".py",
   "mimetype": "text/x-python",
   "name": "python",
   "nbconvert_exporter": "python",
   "pygments_lexer": "ipython3",
   "version": "3.6.4"
  }
 },
 "nbformat": 4,
 "nbformat_minor": 2
}
